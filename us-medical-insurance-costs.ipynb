{
 "cells": [
  {
   "cell_type": "markdown",
   "metadata": {},
   "source": [
    "# U.S. Medical Insurance Costs"
   ]
  },
  {
   "cell_type": "markdown",
   "metadata": {},
   "source": [
    "importing all the data into a list "
   ]
  },
  {
   "cell_type": "code",
   "execution_count": 6,
   "metadata": {},
   "outputs": [
    {
     "name": "stdout",
     "output_type": "stream",
     "text": [
      "age,sex,bmi,children,smoker,region,charges\n",
      "\n",
      "{'age': '18', 'sex': 'male', 'bmi': '33.77', 'children': '1', 'smoker': 'no', 'region': 'southeast', 'charges': '1725.5523'}\n"
     ]
    }
   ],
   "source": [
    "import csv\n",
    "\n",
    "insurance_info = []\n",
    "\n",
    "with open('insurance.csv',newline='') as insurance:\n",
    "    first = csv.DictReader(insurance)\n",
    "    for item in first:\n",
    "        insurance_info.append(item)\n",
    "\n",
    "with open('insurance.csv') as insurance:\n",
    "    first = insurance.readline()\n",
    "    print(first)      \n",
    "print(insurance_info[1])"
   ]
  },
  {
   "cell_type": "markdown",
   "metadata": {},
   "source": [
    "Find the average information with a fuction. in this function you have to pass:\n",
    "* a list with all the information\n",
    "* the key you want to look up\n",
    "* and if the key is a string tell what is the type you want to average\n",
    "\n",
    "It return the average"
   ]
  },
  {
   "cell_type": "code",
   "execution_count": 7,
   "metadata": {},
   "outputs": [
    {
     "data": {
      "text/plain": [
       "1.0949177877429"
      ]
     },
     "execution_count": 7,
     "metadata": {},
     "output_type": "execute_result"
    }
   ],
   "source": [
    "def avg_infor(insurance_info,element,finding=0):\n",
    "    total_info = 0.0\n",
    "    \n",
    "    # determine if the varible finding is int\n",
    "    if isinstance(finding, int):\n",
    "        for item in insurance_info:\n",
    "            total_info += float(item[element])\n",
    "    \n",
    "    # if finding is not int then it have to be str\n",
    "    else:\n",
    "        for item in insurance_info:\n",
    "            if item[element] == finding:\n",
    "                total_info += 1\n",
    "    \n",
    "    \n",
    "    result = total_info/len(insurance_info) \n",
    "    return result\n",
    "    \n",
    "    \n",
    "avg_infor(insurance_info,'children')\n",
    "    "
   ]
  },
  {
   "cell_type": "markdown",
   "metadata": {},
   "source": [
    "how many people are in each region"
   ]
  },
  {
   "cell_type": "code",
   "execution_count": 8,
   "metadata": {},
   "outputs": [
    {
     "data": {
      "text/plain": [
       "{'southwest': 325, 'southeast': 364, 'northwest': 325, 'northeast': 324}"
      ]
     },
     "execution_count": 8,
     "metadata": {},
     "output_type": "execute_result"
    }
   ],
   "source": [
    "def people_regions (insurance_info,location=\"\"):\n",
    "    region_in_insurance = []\n",
    "    region_count =[]\n",
    "    \n",
    "    # create the list with the name of the location\n",
    "    for item in insurance_info:\n",
    "        if item['region'] not in region_in_insurance: \n",
    "            region_in_insurance.append(item['region'])\n",
    "    \n",
    "\n",
    "    # create a list with the number of time that apears in the list\n",
    "    for element in region_in_insurance:\n",
    "        count = 0\n",
    "        for item in insurance_info:\n",
    "            if element == item['region']:\n",
    "                count +=1\n",
    "        region_count.append(count)\n",
    "\n",
    "    #creatinga a dict with the 2 list\n",
    "    regions={key:value for key,value in zip(region_in_insurance,region_count)}\n",
    "\n",
    "    #printing info for a specific location\n",
    "    if location != \"\":\n",
    "        #print(location + ' '+str(regions[location]))\n",
    "        return regions[location]\n",
    "    else:\n",
    "        #print(regions)\n",
    "        return regions\n",
    "\n",
    "people_regions(insurance_info)\n",
    "\n"
   ]
  },
  {
   "cell_type": "markdown",
   "metadata": {},
   "source": [
    "How many female and male are in each region"
   ]
  },
  {
   "cell_type": "code",
   "execution_count": 9,
   "metadata": {},
   "outputs": [
    {
     "name": "stdout",
     "output_type": "stream",
     "text": [
      "[{'region': 'southwest', 'people': 325, 'male': 163, 'female': 162}, {'region': 'southeast', 'people': 364, 'male': 189, 'female': 175}, {'region': 'northwest', 'people': 325, 'male': 161, 'female': 164}, {'region': 'northeast', 'people': 324, 'male': 163, 'female': 161}]\n"
     ]
    },
    {
     "data": {
      "text/plain": [
       "[{'region': 'southwest', 'people': 325, 'male': 163, 'female': 162},\n",
       " {'region': 'southeast', 'people': 364, 'male': 189, 'female': 175},\n",
       " {'region': 'northwest', 'people': 325, 'male': 161, 'female': 164},\n",
       " {'region': 'northeast', 'people': 324, 'male': 163, 'female': 161}]"
      ]
     },
     "execution_count": 9,
     "metadata": {},
     "output_type": "execute_result"
    }
   ],
   "source": [
    "def MaleFemale (insurance_info,sex=\"\",location = \"\"):\n",
    "    sex=['male','female']\n",
    "    \n",
    "    #will contain the info about people and gender for locations.\n",
    "    sex_location=[]\n",
    "    \n",
    "    #it'll add the number of each gender\n",
    "    count_male= []\n",
    "    count_female=[]\n",
    "    \n",
    "    #call the function and save the return value\n",
    "    people_in_reagions = people_regions(insurance_info)    \n",
    "    #save the keys of the dict\n",
    "    regions_in_insurance = list(people_in_reagions.keys())\n",
    "    \n",
    "    #look in each region for the gender and add 1 to the count and then append the result to the corresponding list        \n",
    "    for region in regions_in_insurance:\n",
    "        for type_sex in sex:\n",
    "            count = 0\n",
    "            for item in insurance_info:\n",
    "                if type_sex == item['sex'] and region == item['region']:\n",
    "                    count +=1\n",
    "            if type_sex == 'male':\n",
    "                count_male.append(count)\n",
    "            else:\n",
    "                count_female.append(count)\n",
    "    \n",
    "    # create a dict inside of a list with the  #people and each gender\n",
    "    for item in range(len(regions_in_insurance)):\n",
    "        sex_location.append({\n",
    "            'region': regions_in_insurance[item],\n",
    "            'people': people_in_reagions[regions_in_insurance[item]],\n",
    "            'male': count_male[item],\n",
    "            'female':count_female[item]\n",
    "            \n",
    "        })\n",
    "    \n",
    "    print(sex_location)\n",
    "\n",
    "    #search for the specified gender and return the result\n",
    "    if location != '':\n",
    "        count = 0\n",
    "        for item in sex_location:\n",
    "    \n",
    "            if location == sex_location[count]['region']:\n",
    "                return sex_location[count]\n",
    "                break\n",
    "            count +=1\n",
    "    else:\n",
    "        return sex_location\n",
    "\n",
    "MaleFemale(insurance_info,'male')"
   ]
  }
 ],
 "metadata": {
  "kernelspec": {
   "display_name": "Python 3 (ipykernel)",
   "language": "python",
   "name": "python3"
  },
  "language_info": {
   "codemirror_mode": {
    "name": "ipython",
    "version": 3
   },
   "file_extension": ".py",
   "mimetype": "text/x-python",
   "name": "python",
   "nbconvert_exporter": "python",
   "pygments_lexer": "ipython3",
   "version": "3.12.0"
  }
 },
 "nbformat": 4,
 "nbformat_minor": 4
}
